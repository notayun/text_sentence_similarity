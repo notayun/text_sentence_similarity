{
 "cells": [
  {
   "cell_type": "markdown",
   "id": "e2aa7203",
   "metadata": {},
   "source": [
    "# Topsis on Text Sentence Similarity"
   ]
  },
  {
   "cell_type": "markdown",
   "id": "c722f77c",
   "metadata": {},
   "source": [
    "<div style=\"border: 2px solid #000; padding: 20px;\">\n",
    "    \n",
    "#### Name: Ayun Neupane \n",
    "\n",
    "#### Roll NO: 102167007\n",
    "\n",
    "#### Class : 3CS4"
   ]
  },
  {
   "cell_type": "markdown",
   "id": "43312aa6",
   "metadata": {},
   "source": [
    "<div style=\"border: 2px solid #000; padding: 10px;\">\n",
    "    \n",
    "# Model Evaluation and TOPSIS Score Analysis\n",
    "\n",
    "## 1. Data Collection\n",
    "- Fetched a subset of data from Hugging Face for model training.\n",
    "- link :https://huggingface.co/datasets/nuvocare/WikiMedical_sentence_similarity/viewer/default/train\n",
    "\n",
    "## 2. Model Training\n",
    "- Trained five different models using the selected data subset.\n",
    "\n",
    "## 3. Performance Evaluation\n",
    "- Calculated the following metrics for each model:\n",
    "  - Accuracy\n",
    "  - Precision\n",
    "  - Recall\n",
    "  - F1 Score\n",
    "  - Cohen's Kappa\n",
    "\n",
    "## 4. TOPSIS Score Calculation\n",
    "- Utilized the custom 'Topsis-Rohan-102103108' package to compute TOPSIS scores based on the model performance metrics.\n",
    "- Link of my python pacakage : https://pypi.org/project/Topsis-Rohan-102103108/     \n",
    "\n",
    "## 5. Visualization\n",
    "- Plotted a bar graph to visually represent the TOPSIS scores of each model.\n",
    "\n",
    "### Summary:\n",
    "1. **Data Collection:**\n",
    "   - Subset of data obtained from Hugging Face for training.\n",
    "\n",
    "2. **Model Training:**\n",
    "   - Five models trained on the selected data subset.\n",
    "\n",
    "3. **Performance Evaluation:**\n",
    "   - Metrics calculated: accuracy, precision, recall, F1 score, Cohen's Kappa.\n",
    "\n",
    "4. **TOPSIS Score Calculation:**\n",
    "   - Custom package used for TOPSIS score computation.\n",
    "   - Link of my python pacakage : https://pypi.org/project/Topsis-Rohan-102103108/ \n",
    "\n",
    "5. **Visualization:**\n",
    "   - Bar graph illustrating the TOPSIS scores of each model.\n"
   ]
  },
  {
   "cell_type": "markdown",
   "id": "19bd700d",
   "metadata": {},
   "source": [
    "## Importing Necessary Libraries"
   ]
  },
  {
   "cell_type": "code",
   "execution_count": 1,
   "id": "c16099c4",
   "metadata": {},
   "outputs": [],
   "source": [
    "import pandas as pd\n",
    "import string\n",
    "from nltk.tokenize import word_tokenize\n",
    "from nltk.corpus import stopwords\n",
    "from nltk.stem import WordNetLemmatizer\n",
    "from sklearn.model_selection import train_test_split\n",
    "from sklearn.metrics import accuracy_score, precision_score, recall_score, f1_score\n",
    "from transformers import AutoModelForSequenceClassification, AutoTokenizer\n",
    "import torch\n",
    "from scipy.stats import pearsonr"
   ]
  },
  {
   "cell_type": "markdown",
   "id": "db577b9a",
   "metadata": {},
   "source": [
    "## Loading Dataset From Hugging Face Website"
   ]
  },
  {
   "cell_type": "code",
   "execution_count": 2,
   "id": "a17bbed5",
   "metadata": {},
   "outputs": [
    {
     "name": "stderr",
     "output_type": "stream",
     "text": [
      "Found cached dataset parquet (C:/Users/DELL/.cache/huggingface/datasets/nuvocare___parquet/nuvocare--WikiMedical_sentence_similarity-0e7cc52b5c6632e2/0.0.0/2a3b91fbd88a2c90d1dbbb32b460cf621d31bd5b05b934492fdef7d8d6f236ec)\n"
     ]
    },
    {
     "name": "stdout",
     "output_type": "stream",
     "text": [
      "                                               text1  \\\n",
      "0  Although few studies have been done to link th...   \n",
      "1  A decreased respiratory drive can also be the ...   \n",
      "2  Body-focused repetitive behavior (BFRB) is an ...   \n",
      "3  Other symptoms\\nBesides lack of speech, other ...   \n",
      "4  PTH up-regulates 25-hydroxyvitamin D3 1-alpha-...   \n",
      "\n",
      "                                               text2  label  \n",
      "0  Facial symmetry is one specific measure of bod...      0  \n",
      "1  Exercise\\nExercise-induced arterial hypoxemia ...      1  \n",
      "2  However, no treatment was deemed well-establis...      1  \n",
      "3  Post-secondary accommodations are also availab...      1  \n",
      "4  The level may be stated in pg/dL or pmol/L (so...      1  \n"
     ]
    }
   ],
   "source": [
    "from datasets import load_dataset\n",
    "import pandas as pd\n",
    "\n",
    "# Load the dataset\n",
    "dataset = load_dataset(\"nuvocare/WikiMedical_sentence_similarity\", split=\"train\")\n",
    "\n",
    "# Convert the dataset to a pandas DataFrame\n",
    "df = pd.DataFrame(dataset)\n",
    "\n",
    "# Filter rows based on label\n",
    "label_0_rows = df[df['label'] == 0].head(1600)\n",
    "label_1_rows = df[df['label'] == 1].head(1600)\n",
    "\n",
    "# Concatenate the selected rows\n",
    "train_dataset = pd.concat([label_0_rows, label_1_rows])\n",
    "\n",
    "# Shuffle the dataset to mix the rows\n",
    "train_dataset = train_dataset.sample(frac=1).reset_index(drop=True)\n",
    "\n",
    "# Display the first few rows of the resulting train dataset\n",
    "print(train_dataset.head())\n"
   ]
  },
  {
   "cell_type": "code",
   "execution_count": 3,
   "id": "d1ce882f",
   "metadata": {},
   "outputs": [
    {
     "data": {
      "text/html": [
       "<div>\n",
       "<style scoped>\n",
       "    .dataframe tbody tr th:only-of-type {\n",
       "        vertical-align: middle;\n",
       "    }\n",
       "\n",
       "    .dataframe tbody tr th {\n",
       "        vertical-align: top;\n",
       "    }\n",
       "\n",
       "    .dataframe thead th {\n",
       "        text-align: right;\n",
       "    }\n",
       "</style>\n",
       "<table border=\"1\" class=\"dataframe\">\n",
       "  <thead>\n",
       "    <tr style=\"text-align: right;\">\n",
       "      <th></th>\n",
       "      <th>text1</th>\n",
       "      <th>text2</th>\n",
       "      <th>label</th>\n",
       "    </tr>\n",
       "  </thead>\n",
       "  <tbody>\n",
       "    <tr>\n",
       "      <th>0</th>\n",
       "      <td>Although few studies have been done to link th...</td>\n",
       "      <td>Facial symmetry is one specific measure of bod...</td>\n",
       "      <td>0</td>\n",
       "    </tr>\n",
       "    <tr>\n",
       "      <th>1</th>\n",
       "      <td>A decreased respiratory drive can also be the ...</td>\n",
       "      <td>Exercise\\nExercise-induced arterial hypoxemia ...</td>\n",
       "      <td>1</td>\n",
       "    </tr>\n",
       "    <tr>\n",
       "      <th>2</th>\n",
       "      <td>Body-focused repetitive behavior (BFRB) is an ...</td>\n",
       "      <td>However, no treatment was deemed well-establis...</td>\n",
       "      <td>1</td>\n",
       "    </tr>\n",
       "    <tr>\n",
       "      <th>3</th>\n",
       "      <td>Other symptoms\\nBesides lack of speech, other ...</td>\n",
       "      <td>Post-secondary accommodations are also availab...</td>\n",
       "      <td>1</td>\n",
       "    </tr>\n",
       "    <tr>\n",
       "      <th>4</th>\n",
       "      <td>PTH up-regulates 25-hydroxyvitamin D3 1-alpha-...</td>\n",
       "      <td>The level may be stated in pg/dL or pmol/L (so...</td>\n",
       "      <td>1</td>\n",
       "    </tr>\n",
       "    <tr>\n",
       "      <th>...</th>\n",
       "      <td>...</td>\n",
       "      <td>...</td>\n",
       "      <td>...</td>\n",
       "    </tr>\n",
       "    <tr>\n",
       "      <th>3195</th>\n",
       "      <td>Neurocognitive and behavioral consequences\\nNo...</td>\n",
       "      <td>The stage of a lymphoma helps predict a patien...</td>\n",
       "      <td>0</td>\n",
       "    </tr>\n",
       "    <tr>\n",
       "      <th>3196</th>\n",
       "      <td>The syndromes symptoms were further refined in...</td>\n",
       "      <td>Treatment\\nTreatment of the cause of the expos...</td>\n",
       "      <td>0</td>\n",
       "    </tr>\n",
       "    <tr>\n",
       "      <th>3197</th>\n",
       "      <td>Diagnosis\\nDiagnosis of CSF leakage can be don...</td>\n",
       "      <td>Iliopsoas bursitis is inflammation of a bursa ...</td>\n",
       "      <td>0</td>\n",
       "    </tr>\n",
       "    <tr>\n",
       "      <th>3198</th>\n",
       "      <td>Patellofemoral pain syndrome (PFPS; not to be ...</td>\n",
       "      <td>The explosive power of nitroglycerin derives f...</td>\n",
       "      <td>0</td>\n",
       "    </tr>\n",
       "    <tr>\n",
       "      <th>3199</th>\n",
       "      <td>For example, interventions with commodities su...</td>\n",
       "      <td>Complete tears occur as avulsion of the tendin...</td>\n",
       "      <td>0</td>\n",
       "    </tr>\n",
       "  </tbody>\n",
       "</table>\n",
       "<p>3200 rows × 3 columns</p>\n",
       "</div>"
      ],
      "text/plain": [
       "                                                  text1  \\\n",
       "0     Although few studies have been done to link th...   \n",
       "1     A decreased respiratory drive can also be the ...   \n",
       "2     Body-focused repetitive behavior (BFRB) is an ...   \n",
       "3     Other symptoms\\nBesides lack of speech, other ...   \n",
       "4     PTH up-regulates 25-hydroxyvitamin D3 1-alpha-...   \n",
       "...                                                 ...   \n",
       "3195  Neurocognitive and behavioral consequences\\nNo...   \n",
       "3196  The syndromes symptoms were further refined in...   \n",
       "3197  Diagnosis\\nDiagnosis of CSF leakage can be don...   \n",
       "3198  Patellofemoral pain syndrome (PFPS; not to be ...   \n",
       "3199  For example, interventions with commodities su...   \n",
       "\n",
       "                                                  text2  label  \n",
       "0     Facial symmetry is one specific measure of bod...      0  \n",
       "1     Exercise\\nExercise-induced arterial hypoxemia ...      1  \n",
       "2     However, no treatment was deemed well-establis...      1  \n",
       "3     Post-secondary accommodations are also availab...      1  \n",
       "4     The level may be stated in pg/dL or pmol/L (so...      1  \n",
       "...                                                 ...    ...  \n",
       "3195  The stage of a lymphoma helps predict a patien...      0  \n",
       "3196  Treatment\\nTreatment of the cause of the expos...      0  \n",
       "3197  Iliopsoas bursitis is inflammation of a bursa ...      0  \n",
       "3198  The explosive power of nitroglycerin derives f...      0  \n",
       "3199  Complete tears occur as avulsion of the tendin...      0  \n",
       "\n",
       "[3200 rows x 3 columns]"
      ]
     },
     "execution_count": 3,
     "metadata": {},
     "output_type": "execute_result"
    }
   ],
   "source": [
    "train_dataset"
   ]
  },
  {
   "cell_type": "code",
   "execution_count": 4,
   "id": "618ce8a5",
   "metadata": {},
   "outputs": [
    {
     "name": "stderr",
     "output_type": "stream",
     "text": [
      "[nltk_data] Downloading package punkt to\n",
      "[nltk_data]     C:\\Users\\DELL\\AppData\\Roaming\\nltk_data...\n",
      "[nltk_data]   Package punkt is already up-to-date!\n",
      "[nltk_data] Downloading package stopwords to\n",
      "[nltk_data]     C:\\Users\\DELL\\AppData\\Roaming\\nltk_data...\n",
      "[nltk_data]   Package stopwords is already up-to-date!\n",
      "[nltk_data] Downloading package wordnet to\n",
      "[nltk_data]     C:\\Users\\DELL\\AppData\\Roaming\\nltk_data...\n",
      "[nltk_data]   Package wordnet is already up-to-date!\n"
     ]
    },
    {
     "data": {
      "text/plain": [
       "True"
      ]
     },
     "execution_count": 4,
     "metadata": {},
     "output_type": "execute_result"
    }
   ],
   "source": [
    "import nltk\n",
    "\n",
    "# Download NLTK resources (if not already downloaded)\n",
    "nltk.download('punkt')\n",
    "nltk.download('stopwords')\n",
    "nltk.download('wordnet')\n"
   ]
  },
  {
   "cell_type": "markdown",
   "id": "b9fa1a37",
   "metadata": {},
   "source": [
    "## Preprocessing "
   ]
  },
  {
   "cell_type": "code",
   "execution_count": 5,
   "id": "53c2c5ed",
   "metadata": {},
   "outputs": [],
   "source": [
    "\n",
    "# Text preprocessing function\n",
    "def preprocess_text(text):\n",
    "    # Convert to lowercase\n",
    "    text = text.lower()\n",
    "\n",
    "    # Remove punctuation\n",
    "    text = text.translate(str.maketrans('', '', string.punctuation))\n",
    "\n",
    "    # Tokenization\n",
    "    tokens = word_tokenize(text)\n",
    "\n",
    "    # Remove stopwords\n",
    "    stop_words = set(stopwords.words('english'))\n",
    "    tokens = [token for token in tokens if token not in stop_words]\n",
    "\n",
    "    # Lemmatization\n",
    "    lemmatizer = WordNetLemmatizer()\n",
    "    tokens = [lemmatizer.lemmatize(token) for token in tokens]\n",
    "\n",
    "    # Join the tokens back into a single string\n",
    "    preprocessed_text = ' '.join(tokens)\n",
    "\n",
    "    return preprocessed_text\n"
   ]
  },
  {
   "cell_type": "code",
   "execution_count": 6,
   "id": "ca9e1106",
   "metadata": {},
   "outputs": [],
   "source": [
    "train_dataset['text1'] = train_dataset['text1'].apply(preprocess_text)\n",
    "train_dataset['text2'] = train_dataset['text2'].apply(preprocess_text)"
   ]
  },
  {
   "cell_type": "code",
   "execution_count": 7,
   "id": "b84b7887",
   "metadata": {},
   "outputs": [
    {
     "name": "stdout",
     "output_type": "stream",
     "text": [
      "                                               text1  \\\n",
      "0  although study done link gene known involved h...   \n",
      "1  decreased respiratory drive also result metabo...   \n",
      "2  bodyfocused repetitive behavior bfrb umbrella ...   \n",
      "3  symptom besides lack speech common behavior ch...   \n",
      "4  pth upregulates 25hydroxyvitamin d3 1alphahydr...   \n",
      "5  longitudinal natural history study nearly 20 p...   \n",
      "6  however use gold application electronic slidin...   \n",
      "7  daniel hauser whose mother fled 2009 order pre...   \n",
      "8  firearmrelated death common male age 20 24 yea...   \n",
      "9  oxytocin added institute safe medication pract...   \n",
      "\n",
      "                                               text2  label  \n",
      "0  facial symmetry one specific measure bodily sy...      0  \n",
      "1  exercise exerciseinduced arterial hypoxemia oc...      1  \n",
      "2  however treatment deemed wellestablished treat...      1  \n",
      "3  postsecondary accommodation also available peo...      1  \n",
      "4  level may stated pgdl pmoll sometimes abbrevia...      1  \n",
      "5  march 2010 fda requested additional preclinica...      1  \n",
      "6  life cycle life cycle definitive host adult wo...      0  \n",
      "7  adverse effect high cure rate long survival ma...      1  \n",
      "8  bullet hit squib simulated equivalent gunshot ...      1  \n",
      "9  lack family history rule cmt helpful rule caus...      0  \n"
     ]
    }
   ],
   "source": [
    "print(train_dataset.head(10))"
   ]
  },
  {
   "cell_type": "markdown",
   "id": "3f16ad53",
   "metadata": {},
   "source": [
    "## Training five model and calculating their parameters"
   ]
  },
  {
   "cell_type": "code",
   "execution_count": 8,
   "id": "19053578",
   "metadata": {},
   "outputs": [],
   "source": [
    "# Split the dataset into training and testing sets\n",
    "train_df, test_df = train_test_split(train_dataset, test_size=0.2, random_state=42)"
   ]
  },
  {
   "cell_type": "code",
   "execution_count": 9,
   "id": "03526d65",
   "metadata": {},
   "outputs": [],
   "source": [
    "from tqdm import tqdm"
   ]
  },
  {
   "cell_type": "code",
   "execution_count": 10,
   "id": "d366bd52",
   "metadata": {},
   "outputs": [
    {
     "name": "stderr",
     "output_type": "stream",
     "text": [
      "Some weights of BertForSequenceClassification were not initialized from the model checkpoint at bert-base-uncased and are newly initialized: ['classifier.weight', 'classifier.bias']\n",
      "You should probably TRAIN this model on a down-stream task to be able to use it for predictions and inference.\n",
      "Evaluating: 100%|████████████████████████████████████████████████████████████████████| 640/640 [10:01<00:00,  1.06it/s]\n"
     ]
    },
    {
     "name": "stdout",
     "output_type": "stream",
     "text": [
      "bert-base-uncased:\n",
      "Accuracy: 0.8281, Precision: 0.8513, Recall: 0.7818, F1 Score: 0.7999\n",
      "Cohen's Kappa: 0.6081\n",
      "\n"
     ]
    },
    {
     "name": "stderr",
     "output_type": "stream",
     "text": [
      "Some weights of DistilBertForSequenceClassification were not initialized from the model checkpoint at distilbert-base-uncased and are newly initialized: ['classifier.weight', 'pre_classifier.weight', 'pre_classifier.bias', 'classifier.bias']\n",
      "You should probably TRAIN this model on a down-stream task to be able to use it for predictions and inference.\n",
      "Evaluating:   0%|                                                                              | 0/640 [00:00<?, ?it/s]C:\\Users\\DELL\\anaconda3\\Lib\\site-packages\\sklearn\\metrics\\_classification.py:1469: UndefinedMetricWarning: Precision is ill-defined and being set to 0.0 due to no predicted samples. Use `zero_division` parameter to control this behavior.\n",
      "  _warn_prf(average, modifier, msg_start, len(result))\n",
      "Evaluating:   1%|▉                                                                     | 8/640 [00:02<03:52,  2.72it/s]C:\\Users\\DELL\\anaconda3\\Lib\\site-packages\\sklearn\\metrics\\_classification.py:1469: UndefinedMetricWarning: Precision is ill-defined and being set to 0.0 due to no predicted samples. Use `zero_division` parameter to control this behavior.\n",
      "  _warn_prf(average, modifier, msg_start, len(result))\n",
      "Evaluating:   2%|█▋                                                                   | 16/640 [00:06<04:31,  2.30it/s]C:\\Users\\DELL\\anaconda3\\Lib\\site-packages\\sklearn\\metrics\\_classification.py:1469: UndefinedMetricWarning: Precision is ill-defined and being set to 0.0 due to no predicted samples. Use `zero_division` parameter to control this behavior.\n",
      "  _warn_prf(average, modifier, msg_start, len(result))\n",
      "Evaluating:   4%|██▌                                                                  | 24/640 [00:10<04:44,  2.16it/s]C:\\Users\\DELL\\anaconda3\\Lib\\site-packages\\sklearn\\metrics\\_classification.py:1469: UndefinedMetricWarning: Precision is ill-defined and being set to 0.0 due to no predicted samples. Use `zero_division` parameter to control this behavior.\n",
      "  _warn_prf(average, modifier, msg_start, len(result))\n",
      "Evaluating:   5%|███▍                                                                 | 32/640 [00:14<04:48,  2.11it/s]C:\\Users\\DELL\\anaconda3\\Lib\\site-packages\\sklearn\\metrics\\_classification.py:1469: UndefinedMetricWarning: Precision is ill-defined and being set to 0.0 due to no predicted samples. Use `zero_division` parameter to control this behavior.\n",
      "  _warn_prf(average, modifier, msg_start, len(result))\n",
      "Evaluating:   6%|████▎                                                                | 40/640 [00:18<04:41,  2.13it/s]C:\\Users\\DELL\\anaconda3\\Lib\\site-packages\\sklearn\\metrics\\_classification.py:1469: UndefinedMetricWarning: Precision is ill-defined and being set to 0.0 due to no predicted samples. Use `zero_division` parameter to control this behavior.\n",
      "  _warn_prf(average, modifier, msg_start, len(result))\n",
      "Evaluating:   8%|█████▏                                                               | 48/640 [00:22<04:43,  2.09it/s]C:\\Users\\DELL\\anaconda3\\Lib\\site-packages\\sklearn\\metrics\\_classification.py:1469: UndefinedMetricWarning: Precision is ill-defined and being set to 0.0 due to no predicted samples. Use `zero_division` parameter to control this behavior.\n",
      "  _warn_prf(average, modifier, msg_start, len(result))\n",
      "Evaluating:   9%|██████                                                               | 56/640 [00:26<04:42,  2.07it/s]C:\\Users\\DELL\\anaconda3\\Lib\\site-packages\\sklearn\\metrics\\_classification.py:1469: UndefinedMetricWarning: Precision is ill-defined and being set to 0.0 due to no predicted samples. Use `zero_division` parameter to control this behavior.\n",
      "  _warn_prf(average, modifier, msg_start, len(result))\n",
      "Evaluating:  10%|██████▉                                                              | 64/640 [00:31<05:01,  1.91it/s]C:\\Users\\DELL\\anaconda3\\Lib\\site-packages\\sklearn\\metrics\\_classification.py:1469: UndefinedMetricWarning: Precision is ill-defined and being set to 0.0 due to no predicted samples. Use `zero_division` parameter to control this behavior.\n",
      "  _warn_prf(average, modifier, msg_start, len(result))\n",
      "Evaluating:  11%|███████▊                                                             | 72/640 [00:35<05:04,  1.86it/s]C:\\Users\\DELL\\anaconda3\\Lib\\site-packages\\sklearn\\metrics\\_classification.py:1469: UndefinedMetricWarning: Precision is ill-defined and being set to 0.0 due to no predicted samples. Use `zero_division` parameter to control this behavior.\n",
      "  _warn_prf(average, modifier, msg_start, len(result))\n",
      "Evaluating:  12%|████████▋                                                            | 80/640 [00:39<04:47,  1.95it/s]C:\\Users\\DELL\\anaconda3\\Lib\\site-packages\\sklearn\\metrics\\_classification.py:1469: UndefinedMetricWarning: Precision is ill-defined and being set to 0.0 due to no predicted samples. Use `zero_division` parameter to control this behavior.\n",
      "  _warn_prf(average, modifier, msg_start, len(result))\n",
      "Evaluating:  14%|█████████▍                                                           | 88/640 [00:43<04:36,  1.99it/s]C:\\Users\\DELL\\anaconda3\\Lib\\site-packages\\sklearn\\metrics\\_classification.py:1469: UndefinedMetricWarning: Precision is ill-defined and being set to 0.0 due to no predicted samples. Use `zero_division` parameter to control this behavior.\n",
      "  _warn_prf(average, modifier, msg_start, len(result))\n",
      "Evaluating:  15%|██████████▎                                                          | 96/640 [00:46<04:27,  2.04it/s]C:\\Users\\DELL\\anaconda3\\Lib\\site-packages\\sklearn\\metrics\\_classification.py:1469: UndefinedMetricWarning: Precision is ill-defined and being set to 0.0 due to no predicted samples. Use `zero_division` parameter to control this behavior.\n",
      "  _warn_prf(average, modifier, msg_start, len(result))\n",
      "Evaluating:  16%|███████████                                                         | 104/640 [00:50<04:22,  2.04it/s]C:\\Users\\DELL\\anaconda3\\Lib\\site-packages\\sklearn\\metrics\\_classification.py:1469: UndefinedMetricWarning: Precision is ill-defined and being set to 0.0 due to no predicted samples. Use `zero_division` parameter to control this behavior.\n",
      "  _warn_prf(average, modifier, msg_start, len(result))\n",
      "Evaluating:  18%|███████████▉                                                        | 112/640 [00:54<04:19,  2.04it/s]C:\\Users\\DELL\\anaconda3\\Lib\\site-packages\\sklearn\\metrics\\_classification.py:1469: UndefinedMetricWarning: Precision is ill-defined and being set to 0.0 due to no predicted samples. Use `zero_division` parameter to control this behavior.\n",
      "  _warn_prf(average, modifier, msg_start, len(result))\n",
      "Evaluating:  19%|████████████▊                                                       | 120/640 [00:58<04:14,  2.04it/s]C:\\Users\\DELL\\anaconda3\\Lib\\site-packages\\sklearn\\metrics\\_classification.py:1469: UndefinedMetricWarning: Precision is ill-defined and being set to 0.0 due to no predicted samples. Use `zero_division` parameter to control this behavior.\n",
      "  _warn_prf(average, modifier, msg_start, len(result))\n",
      "Evaluating:  20%|█████████████▌                                                      | 128/640 [01:01<03:51,  2.21it/s]C:\\Users\\DELL\\anaconda3\\Lib\\site-packages\\sklearn\\metrics\\_classification.py:1469: UndefinedMetricWarning: Precision is ill-defined and being set to 0.0 due to no predicted samples. Use `zero_division` parameter to control this behavior.\n",
      "  _warn_prf(average, modifier, msg_start, len(result))\n",
      "Evaluating:  21%|██████████████▍                                                     | 136/640 [01:05<03:49,  2.19it/s]C:\\Users\\DELL\\anaconda3\\Lib\\site-packages\\sklearn\\metrics\\_classification.py:1469: UndefinedMetricWarning: Precision is ill-defined and being set to 0.0 due to no predicted samples. Use `zero_division` parameter to control this behavior.\n",
      "  _warn_prf(average, modifier, msg_start, len(result))\n",
      "Evaluating:  22%|███████████████▎                                                    | 144/640 [01:08<03:46,  2.19it/s]C:\\Users\\DELL\\anaconda3\\Lib\\site-packages\\sklearn\\metrics\\_classification.py:1469: UndefinedMetricWarning: Precision is ill-defined and being set to 0.0 due to no predicted samples. Use `zero_division` parameter to control this behavior.\n",
      "  _warn_prf(average, modifier, msg_start, len(result))\n"
     ]
    },
    {
     "name": "stderr",
     "output_type": "stream",
     "text": [
      "Evaluating:  24%|████████████████▏                                                   | 152/640 [01:12<03:43,  2.18it/s]C:\\Users\\DELL\\anaconda3\\Lib\\site-packages\\sklearn\\metrics\\_classification.py:1469: UndefinedMetricWarning: Precision is ill-defined and being set to 0.0 due to no predicted samples. Use `zero_division` parameter to control this behavior.\n",
      "  _warn_prf(average, modifier, msg_start, len(result))\n",
      "Evaluating:  25%|█████████████████                                                   | 160/640 [01:16<03:42,  2.16it/s]C:\\Users\\DELL\\anaconda3\\Lib\\site-packages\\sklearn\\metrics\\_classification.py:1469: UndefinedMetricWarning: Precision is ill-defined and being set to 0.0 due to no predicted samples. Use `zero_division` parameter to control this behavior.\n",
      "  _warn_prf(average, modifier, msg_start, len(result))\n",
      "Evaluating:  26%|█████████████████▊                                                  | 168/640 [01:20<03:40,  2.14it/s]C:\\Users\\DELL\\anaconda3\\Lib\\site-packages\\sklearn\\metrics\\_classification.py:1469: UndefinedMetricWarning: Precision is ill-defined and being set to 0.0 due to no predicted samples. Use `zero_division` parameter to control this behavior.\n",
      "  _warn_prf(average, modifier, msg_start, len(result))\n",
      "Evaluating:  28%|██████████████████▋                                                 | 176/640 [01:24<03:41,  2.10it/s]C:\\Users\\DELL\\anaconda3\\Lib\\site-packages\\sklearn\\metrics\\_classification.py:1469: UndefinedMetricWarning: Precision is ill-defined and being set to 0.0 due to no predicted samples. Use `zero_division` parameter to control this behavior.\n",
      "  _warn_prf(average, modifier, msg_start, len(result))\n",
      "Evaluating:  29%|███████████████████▌                                                | 184/640 [01:28<03:43,  2.04it/s]C:\\Users\\DELL\\anaconda3\\Lib\\site-packages\\sklearn\\metrics\\_classification.py:1469: UndefinedMetricWarning: Precision is ill-defined and being set to 0.0 due to no predicted samples. Use `zero_division` parameter to control this behavior.\n",
      "  _warn_prf(average, modifier, msg_start, len(result))\n",
      "Evaluating:  30%|████████████████████▍                                               | 192/640 [01:32<03:42,  2.01it/s]C:\\Users\\DELL\\anaconda3\\Lib\\site-packages\\sklearn\\metrics\\_classification.py:1469: UndefinedMetricWarning: Precision is ill-defined and being set to 0.0 due to no predicted samples. Use `zero_division` parameter to control this behavior.\n",
      "  _warn_prf(average, modifier, msg_start, len(result))\n",
      "Evaluating:  31%|█████████████████████▎                                              | 200/640 [01:36<03:33,  2.06it/s]C:\\Users\\DELL\\anaconda3\\Lib\\site-packages\\sklearn\\metrics\\_classification.py:1469: UndefinedMetricWarning: Precision is ill-defined and being set to 0.0 due to no predicted samples. Use `zero_division` parameter to control this behavior.\n",
      "  _warn_prf(average, modifier, msg_start, len(result))\n",
      "Evaluating:  32%|██████████████████████                                              | 208/640 [01:39<03:28,  2.07it/s]C:\\Users\\DELL\\anaconda3\\Lib\\site-packages\\sklearn\\metrics\\_classification.py:1469: UndefinedMetricWarning: Precision is ill-defined and being set to 0.0 due to no predicted samples. Use `zero_division` parameter to control this behavior.\n",
      "  _warn_prf(average, modifier, msg_start, len(result))\n",
      "Evaluating:  34%|██████████████████████▉                                             | 216/640 [01:43<03:23,  2.08it/s]C:\\Users\\DELL\\anaconda3\\Lib\\site-packages\\sklearn\\metrics\\_classification.py:1469: UndefinedMetricWarning: Precision is ill-defined and being set to 0.0 due to no predicted samples. Use `zero_division` parameter to control this behavior.\n",
      "  _warn_prf(average, modifier, msg_start, len(result))\n",
      "Evaluating:  35%|███████████████████████▊                                            | 224/640 [01:47<03:21,  2.07it/s]C:\\Users\\DELL\\anaconda3\\Lib\\site-packages\\sklearn\\metrics\\_classification.py:1469: UndefinedMetricWarning: Precision is ill-defined and being set to 0.0 due to no predicted samples. Use `zero_division` parameter to control this behavior.\n",
      "  _warn_prf(average, modifier, msg_start, len(result))\n",
      "Evaluating:  36%|████████████████████████▋                                           | 232/640 [01:51<03:08,  2.17it/s]C:\\Users\\DELL\\anaconda3\\Lib\\site-packages\\sklearn\\metrics\\_classification.py:1469: UndefinedMetricWarning: Precision is ill-defined and being set to 0.0 due to no predicted samples. Use `zero_division` parameter to control this behavior.\n",
      "  _warn_prf(average, modifier, msg_start, len(result))\n",
      "Evaluating:  38%|█████████████████████████▌                                          | 240/640 [01:55<03:11,  2.09it/s]C:\\Users\\DELL\\anaconda3\\Lib\\site-packages\\sklearn\\metrics\\_classification.py:1469: UndefinedMetricWarning: Precision is ill-defined and being set to 0.0 due to no predicted samples. Use `zero_division` parameter to control this behavior.\n",
      "  _warn_prf(average, modifier, msg_start, len(result))\n",
      "Evaluating:  39%|██████████████████████████▎                                         | 248/640 [01:59<03:12,  2.03it/s]C:\\Users\\DELL\\anaconda3\\Lib\\site-packages\\sklearn\\metrics\\_classification.py:1469: UndefinedMetricWarning: Precision is ill-defined and being set to 0.0 due to no predicted samples. Use `zero_division` parameter to control this behavior.\n",
      "  _warn_prf(average, modifier, msg_start, len(result))\n",
      "Evaluating:  40%|███████████████████████████▏                                        | 256/640 [02:02<02:57,  2.16it/s]C:\\Users\\DELL\\anaconda3\\Lib\\site-packages\\sklearn\\metrics\\_classification.py:1469: UndefinedMetricWarning: Precision is ill-defined and being set to 0.0 due to no predicted samples. Use `zero_division` parameter to control this behavior.\n",
      "  _warn_prf(average, modifier, msg_start, len(result))\n",
      "Evaluating:  41%|████████████████████████████                                        | 264/640 [02:06<02:56,  2.14it/s]C:\\Users\\DELL\\anaconda3\\Lib\\site-packages\\sklearn\\metrics\\_classification.py:1469: UndefinedMetricWarning: Precision is ill-defined and being set to 0.0 due to no predicted samples. Use `zero_division` parameter to control this behavior.\n",
      "  _warn_prf(average, modifier, msg_start, len(result))\n",
      "Evaluating:  42%|████████████████████████████▉                                       | 272/640 [02:10<02:52,  2.14it/s]C:\\Users\\DELL\\anaconda3\\Lib\\site-packages\\sklearn\\metrics\\_classification.py:1469: UndefinedMetricWarning: Precision is ill-defined and being set to 0.0 due to no predicted samples. Use `zero_division` parameter to control this behavior.\n",
      "  _warn_prf(average, modifier, msg_start, len(result))\n",
      "Evaluating:  44%|█████████████████████████████▊                                      | 280/640 [02:14<02:51,  2.09it/s]C:\\Users\\DELL\\anaconda3\\Lib\\site-packages\\sklearn\\metrics\\_classification.py:1469: UndefinedMetricWarning: Precision is ill-defined and being set to 0.0 due to no predicted samples. Use `zero_division` parameter to control this behavior.\n",
      "  _warn_prf(average, modifier, msg_start, len(result))\n",
      "Evaluating:  45%|██████████████████████████████▌                                     | 288/640 [02:18<02:51,  2.06it/s]C:\\Users\\DELL\\anaconda3\\Lib\\site-packages\\sklearn\\metrics\\_classification.py:1469: UndefinedMetricWarning: Precision is ill-defined and being set to 0.0 due to no predicted samples. Use `zero_division` parameter to control this behavior.\n",
      "  _warn_prf(average, modifier, msg_start, len(result))\n",
      "Evaluating:  46%|███████████████████████████████▍                                    | 296/640 [02:21<02:46,  2.06it/s]C:\\Users\\DELL\\anaconda3\\Lib\\site-packages\\sklearn\\metrics\\_classification.py:1469: UndefinedMetricWarning: Precision is ill-defined and being set to 0.0 due to no predicted samples. Use `zero_division` parameter to control this behavior.\n",
      "  _warn_prf(average, modifier, msg_start, len(result))\n",
      "Evaluating:  48%|████████████████████████████████▎                                   | 304/640 [02:25<02:40,  2.09it/s]C:\\Users\\DELL\\anaconda3\\Lib\\site-packages\\sklearn\\metrics\\_classification.py:1469: UndefinedMetricWarning: Precision is ill-defined and being set to 0.0 due to no predicted samples. Use `zero_division` parameter to control this behavior.\n",
      "  _warn_prf(average, modifier, msg_start, len(result))\n"
     ]
    },
    {
     "name": "stderr",
     "output_type": "stream",
     "text": [
      "Evaluating:  49%|█████████████████████████████████▏                                  | 312/640 [02:30<02:43,  2.00it/s]C:\\Users\\DELL\\anaconda3\\Lib\\site-packages\\sklearn\\metrics\\_classification.py:1469: UndefinedMetricWarning: Precision is ill-defined and being set to 0.0 due to no predicted samples. Use `zero_division` parameter to control this behavior.\n",
      "  _warn_prf(average, modifier, msg_start, len(result))\n",
      "Evaluating:  50%|██████████████████████████████████                                  | 320/640 [02:34<02:39,  2.00it/s]C:\\Users\\DELL\\anaconda3\\Lib\\site-packages\\sklearn\\metrics\\_classification.py:1469: UndefinedMetricWarning: Precision is ill-defined and being set to 0.0 due to no predicted samples. Use `zero_division` parameter to control this behavior.\n",
      "  _warn_prf(average, modifier, msg_start, len(result))\n",
      "Evaluating:  51%|██████████████████████████████████▊                                 | 328/640 [02:38<02:38,  1.97it/s]C:\\Users\\DELL\\anaconda3\\Lib\\site-packages\\sklearn\\metrics\\_classification.py:1469: UndefinedMetricWarning: Precision is ill-defined and being set to 0.0 due to no predicted samples. Use `zero_division` parameter to control this behavior.\n",
      "  _warn_prf(average, modifier, msg_start, len(result))\n",
      "Evaluating:  52%|███████████████████████████████████▋                                | 336/640 [02:42<02:35,  1.96it/s]C:\\Users\\DELL\\anaconda3\\Lib\\site-packages\\sklearn\\metrics\\_classification.py:1469: UndefinedMetricWarning: Precision is ill-defined and being set to 0.0 due to no predicted samples. Use `zero_division` parameter to control this behavior.\n",
      "  _warn_prf(average, modifier, msg_start, len(result))\n",
      "Evaluating:  54%|████████████████████████████████████▌                               | 344/640 [02:45<02:23,  2.07it/s]C:\\Users\\DELL\\anaconda3\\Lib\\site-packages\\sklearn\\metrics\\_classification.py:1469: UndefinedMetricWarning: Precision is ill-defined and being set to 0.0 due to no predicted samples. Use `zero_division` parameter to control this behavior.\n",
      "  _warn_prf(average, modifier, msg_start, len(result))\n",
      "Evaluating:  55%|█████████████████████████████████████▍                              | 352/640 [02:49<02:13,  2.15it/s]C:\\Users\\DELL\\anaconda3\\Lib\\site-packages\\sklearn\\metrics\\_classification.py:1469: UndefinedMetricWarning: Precision is ill-defined and being set to 0.0 due to no predicted samples. Use `zero_division` parameter to control this behavior.\n",
      "  _warn_prf(average, modifier, msg_start, len(result))\n",
      "Evaluating:  56%|██████████████████████████████████████▎                             | 360/640 [02:52<02:10,  2.15it/s]C:\\Users\\DELL\\anaconda3\\Lib\\site-packages\\sklearn\\metrics\\_classification.py:1469: UndefinedMetricWarning: Precision is ill-defined and being set to 0.0 due to no predicted samples. Use `zero_division` parameter to control this behavior.\n",
      "  _warn_prf(average, modifier, msg_start, len(result))\n",
      "Evaluating:  57%|███████████████████████████████████████                             | 368/640 [02:56<02:08,  2.12it/s]C:\\Users\\DELL\\anaconda3\\Lib\\site-packages\\sklearn\\metrics\\_classification.py:1469: UndefinedMetricWarning: Precision is ill-defined and being set to 0.0 due to no predicted samples. Use `zero_division` parameter to control this behavior.\n",
      "  _warn_prf(average, modifier, msg_start, len(result))\n",
      "Evaluating:  59%|███████████████████████████████████████▉                            | 376/640 [03:00<02:08,  2.05it/s]C:\\Users\\DELL\\anaconda3\\Lib\\site-packages\\sklearn\\metrics\\_classification.py:1469: UndefinedMetricWarning: Precision is ill-defined and being set to 0.0 due to no predicted samples. Use `zero_division` parameter to control this behavior.\n",
      "  _warn_prf(average, modifier, msg_start, len(result))\n",
      "Evaluating:  60%|████████████████████████████████████████▊                           | 384/640 [03:04<02:04,  2.06it/s]C:\\Users\\DELL\\anaconda3\\Lib\\site-packages\\sklearn\\metrics\\_classification.py:1469: UndefinedMetricWarning: Precision is ill-defined and being set to 0.0 due to no predicted samples. Use `zero_division` parameter to control this behavior.\n",
      "  _warn_prf(average, modifier, msg_start, len(result))\n",
      "Evaluating:  61%|█████████████████████████████████████████▋                          | 392/640 [03:08<02:02,  2.03it/s]C:\\Users\\DELL\\anaconda3\\Lib\\site-packages\\sklearn\\metrics\\_classification.py:1469: UndefinedMetricWarning: Precision is ill-defined and being set to 0.0 due to no predicted samples. Use `zero_division` parameter to control this behavior.\n",
      "  _warn_prf(average, modifier, msg_start, len(result))\n",
      "Evaluating:  62%|██████████████████████████████████████████▌                         | 400/640 [03:13<02:00,  2.00it/s]C:\\Users\\DELL\\anaconda3\\Lib\\site-packages\\sklearn\\metrics\\_classification.py:1469: UndefinedMetricWarning: Precision is ill-defined and being set to 0.0 due to no predicted samples. Use `zero_division` parameter to control this behavior.\n",
      "  _warn_prf(average, modifier, msg_start, len(result))\n",
      "Evaluating:  64%|███████████████████████████████████████████▎                        | 408/640 [03:16<01:54,  2.03it/s]C:\\Users\\DELL\\anaconda3\\Lib\\site-packages\\sklearn\\metrics\\_classification.py:1469: UndefinedMetricWarning: Precision is ill-defined and being set to 0.0 due to no predicted samples. Use `zero_division` parameter to control this behavior.\n",
      "  _warn_prf(average, modifier, msg_start, len(result))\n",
      "Evaluating:  66%|█████████████████████████████████████████████                       | 424/640 [03:24<01:47,  2.01it/s]C:\\Users\\DELL\\anaconda3\\Lib\\site-packages\\sklearn\\metrics\\_classification.py:1469: UndefinedMetricWarning: Precision is ill-defined and being set to 0.0 due to no predicted samples. Use `zero_division` parameter to control this behavior.\n",
      "  _warn_prf(average, modifier, msg_start, len(result))\n",
      "Evaluating:  68%|█████████████████████████████████████████████▉                      | 432/640 [03:29<01:45,  1.96it/s]C:\\Users\\DELL\\anaconda3\\Lib\\site-packages\\sklearn\\metrics\\_classification.py:1469: UndefinedMetricWarning: Precision is ill-defined and being set to 0.0 due to no predicted samples. Use `zero_division` parameter to control this behavior.\n",
      "  _warn_prf(average, modifier, msg_start, len(result))\n",
      "Evaluating:  69%|██████████████████████████████████████████████▊                     | 440/640 [03:32<01:39,  2.01it/s]C:\\Users\\DELL\\anaconda3\\Lib\\site-packages\\sklearn\\metrics\\_classification.py:1469: UndefinedMetricWarning: Precision is ill-defined and being set to 0.0 due to no predicted samples. Use `zero_division` parameter to control this behavior.\n",
      "  _warn_prf(average, modifier, msg_start, len(result))\n",
      "Evaluating:  70%|███████████████████████████████████████████████▌                    | 448/640 [03:36<01:33,  2.06it/s]C:\\Users\\DELL\\anaconda3\\Lib\\site-packages\\sklearn\\metrics\\_classification.py:1469: UndefinedMetricWarning: Precision is ill-defined and being set to 0.0 due to no predicted samples. Use `zero_division` parameter to control this behavior.\n",
      "  _warn_prf(average, modifier, msg_start, len(result))\n",
      "Evaluating:  71%|████████████████████████████████████████████████▍                   | 456/640 [03:40<01:27,  2.10it/s]C:\\Users\\DELL\\anaconda3\\Lib\\site-packages\\sklearn\\metrics\\_classification.py:1469: UndefinedMetricWarning: Precision is ill-defined and being set to 0.0 due to no predicted samples. Use `zero_division` parameter to control this behavior.\n",
      "  _warn_prf(average, modifier, msg_start, len(result))\n",
      "Evaluating:  72%|█████████████████████████████████████████████████▎                  | 464/640 [03:44<01:25,  2.05it/s]C:\\Users\\DELL\\anaconda3\\Lib\\site-packages\\sklearn\\metrics\\_classification.py:1469: UndefinedMetricWarning: Precision is ill-defined and being set to 0.0 due to no predicted samples. Use `zero_division` parameter to control this behavior.\n",
      "  _warn_prf(average, modifier, msg_start, len(result))\n",
      "Evaluating:  74%|██████████████████████████████████████████████████▏                 | 472/640 [03:48<01:22,  2.04it/s]C:\\Users\\DELL\\anaconda3\\Lib\\site-packages\\sklearn\\metrics\\_classification.py:1469: UndefinedMetricWarning: Precision is ill-defined and being set to 0.0 due to no predicted samples. Use `zero_division` parameter to control this behavior.\n",
      "  _warn_prf(average, modifier, msg_start, len(result))\n"
     ]
    },
    {
     "name": "stderr",
     "output_type": "stream",
     "text": [
      "Evaluating:  76%|███████████████████████████████████████████████████▊                | 488/640 [03:56<01:14,  2.04it/s]C:\\Users\\DELL\\anaconda3\\Lib\\site-packages\\sklearn\\metrics\\_classification.py:1469: UndefinedMetricWarning: Precision is ill-defined and being set to 0.0 due to no predicted samples. Use `zero_division` parameter to control this behavior.\n",
      "  _warn_prf(average, modifier, msg_start, len(result))\n",
      "Evaluating:  78%|████████████████████████████████████████████████████▋               | 496/640 [03:59<01:09,  2.07it/s]C:\\Users\\DELL\\anaconda3\\Lib\\site-packages\\sklearn\\metrics\\_classification.py:1469: UndefinedMetricWarning: Precision is ill-defined and being set to 0.0 due to no predicted samples. Use `zero_division` parameter to control this behavior.\n",
      "  _warn_prf(average, modifier, msg_start, len(result))\n",
      "Evaluating:  79%|█████████████████████████████████████████████████████▌              | 504/640 [04:03<01:05,  2.07it/s]C:\\Users\\DELL\\anaconda3\\Lib\\site-packages\\sklearn\\metrics\\_classification.py:1469: UndefinedMetricWarning: Precision is ill-defined and being set to 0.0 due to no predicted samples. Use `zero_division` parameter to control this behavior.\n",
      "  _warn_prf(average, modifier, msg_start, len(result))\n",
      "Evaluating:  80%|██████████████████████████████████████████████████████▍             | 512/640 [04:06<00:57,  2.22it/s]C:\\Users\\DELL\\anaconda3\\Lib\\site-packages\\sklearn\\metrics\\_classification.py:1469: UndefinedMetricWarning: Precision is ill-defined and being set to 0.0 due to no predicted samples. Use `zero_division` parameter to control this behavior.\n",
      "  _warn_prf(average, modifier, msg_start, len(result))\n",
      "Evaluating:  81%|███████████████████████████████████████████████████████▎            | 520/640 [04:10<00:54,  2.21it/s]C:\\Users\\DELL\\anaconda3\\Lib\\site-packages\\sklearn\\metrics\\_classification.py:1469: UndefinedMetricWarning: Precision is ill-defined and being set to 0.0 due to no predicted samples. Use `zero_division` parameter to control this behavior.\n",
      "  _warn_prf(average, modifier, msg_start, len(result))\n",
      "Evaluating:  82%|████████████████████████████████████████████████████████            | 528/640 [04:14<00:52,  2.15it/s]C:\\Users\\DELL\\anaconda3\\Lib\\site-packages\\sklearn\\metrics\\_classification.py:1469: UndefinedMetricWarning: Precision is ill-defined and being set to 0.0 due to no predicted samples. Use `zero_division` parameter to control this behavior.\n",
      "  _warn_prf(average, modifier, msg_start, len(result))\n",
      "Evaluating:  84%|████████████████████████████████████████████████████████▉           | 536/640 [04:18<00:49,  2.11it/s]C:\\Users\\DELL\\anaconda3\\Lib\\site-packages\\sklearn\\metrics\\_classification.py:1469: UndefinedMetricWarning: Precision is ill-defined and being set to 0.0 due to no predicted samples. Use `zero_division` parameter to control this behavior.\n",
      "  _warn_prf(average, modifier, msg_start, len(result))\n",
      "Evaluating:  85%|█████████████████████████████████████████████████████████▊          | 544/640 [04:21<00:45,  2.12it/s]C:\\Users\\DELL\\anaconda3\\Lib\\site-packages\\sklearn\\metrics\\_classification.py:1469: UndefinedMetricWarning: Precision is ill-defined and being set to 0.0 due to no predicted samples. Use `zero_division` parameter to control this behavior.\n",
      "  _warn_prf(average, modifier, msg_start, len(result))\n",
      "Evaluating:  86%|██████████████████████████████████████████████████████████▋         | 552/640 [04:25<00:42,  2.09it/s]C:\\Users\\DELL\\anaconda3\\Lib\\site-packages\\sklearn\\metrics\\_classification.py:1469: UndefinedMetricWarning: Precision is ill-defined and being set to 0.0 due to no predicted samples. Use `zero_division` parameter to control this behavior.\n",
      "  _warn_prf(average, modifier, msg_start, len(result))\n",
      "Evaluating:  88%|███████████████████████████████████████████████████████████▌        | 560/640 [04:29<00:38,  2.10it/s]C:\\Users\\DELL\\anaconda3\\Lib\\site-packages\\sklearn\\metrics\\_classification.py:1469: UndefinedMetricWarning: Precision is ill-defined and being set to 0.0 due to no predicted samples. Use `zero_division` parameter to control this behavior.\n",
      "  _warn_prf(average, modifier, msg_start, len(result))\n",
      "Evaluating:  89%|████████████████████████████████████████████████████████████▎       | 568/640 [04:33<00:35,  2.02it/s]C:\\Users\\DELL\\anaconda3\\Lib\\site-packages\\sklearn\\metrics\\_classification.py:1469: UndefinedMetricWarning: Precision is ill-defined and being set to 0.0 due to no predicted samples. Use `zero_division` parameter to control this behavior.\n",
      "  _warn_prf(average, modifier, msg_start, len(result))\n",
      "Evaluating:  90%|█████████████████████████████████████████████████████████████▏      | 576/640 [04:37<00:31,  2.05it/s]C:\\Users\\DELL\\anaconda3\\Lib\\site-packages\\sklearn\\metrics\\_classification.py:1469: UndefinedMetricWarning: Precision is ill-defined and being set to 0.0 due to no predicted samples. Use `zero_division` parameter to control this behavior.\n",
      "  _warn_prf(average, modifier, msg_start, len(result))\n",
      "Evaluating:  91%|██████████████████████████████████████████████████████████████      | 584/640 [04:40<00:25,  2.18it/s]C:\\Users\\DELL\\anaconda3\\Lib\\site-packages\\sklearn\\metrics\\_classification.py:1469: UndefinedMetricWarning: Precision is ill-defined and being set to 0.0 due to no predicted samples. Use `zero_division` parameter to control this behavior.\n",
      "  _warn_prf(average, modifier, msg_start, len(result))\n",
      "Evaluating:  92%|██████████████████████████████████████████████████████████████▉     | 592/640 [04:44<00:22,  2.10it/s]C:\\Users\\DELL\\anaconda3\\Lib\\site-packages\\sklearn\\metrics\\_classification.py:1469: UndefinedMetricWarning: Precision is ill-defined and being set to 0.0 due to no predicted samples. Use `zero_division` parameter to control this behavior.\n",
      "  _warn_prf(average, modifier, msg_start, len(result))\n",
      "Evaluating:  94%|███████████████████████████████████████████████████████████████▊    | 600/640 [04:48<00:18,  2.21it/s]C:\\Users\\DELL\\anaconda3\\Lib\\site-packages\\sklearn\\metrics\\_classification.py:1469: UndefinedMetricWarning: Precision is ill-defined and being set to 0.0 due to no predicted samples. Use `zero_division` parameter to control this behavior.\n",
      "  _warn_prf(average, modifier, msg_start, len(result))\n",
      "Evaluating:  95%|████████████████████████████████████████████████████████████████▌   | 608/640 [04:51<00:14,  2.18it/s]C:\\Users\\DELL\\anaconda3\\Lib\\site-packages\\sklearn\\metrics\\_classification.py:1469: UndefinedMetricWarning: Precision is ill-defined and being set to 0.0 due to no predicted samples. Use `zero_division` parameter to control this behavior.\n",
      "  _warn_prf(average, modifier, msg_start, len(result))\n",
      "Evaluating:  96%|█████████████████████████████████████████████████████████████████▍  | 616/640 [04:55<00:11,  2.15it/s]C:\\Users\\DELL\\anaconda3\\Lib\\site-packages\\sklearn\\metrics\\_classification.py:1469: UndefinedMetricWarning: Precision is ill-defined and being set to 0.0 due to no predicted samples. Use `zero_division` parameter to control this behavior.\n",
      "  _warn_prf(average, modifier, msg_start, len(result))\n",
      "Evaluating:  98%|██████████████████████████████████████████████████████████████████▎ | 624/640 [04:59<00:07,  2.13it/s]C:\\Users\\DELL\\anaconda3\\Lib\\site-packages\\sklearn\\metrics\\_classification.py:1469: UndefinedMetricWarning: Precision is ill-defined and being set to 0.0 due to no predicted samples. Use `zero_division` parameter to control this behavior.\n",
      "  _warn_prf(average, modifier, msg_start, len(result))\n",
      "Evaluating:  99%|███████████████████████████████████████████████████████████████████▏| 632/640 [05:02<00:03,  2.19it/s]C:\\Users\\DELL\\anaconda3\\Lib\\site-packages\\sklearn\\metrics\\_classification.py:1469: UndefinedMetricWarning: Precision is ill-defined and being set to 0.0 due to no predicted samples. Use `zero_division` parameter to control this behavior.\n",
      "  _warn_prf(average, modifier, msg_start, len(result))\n",
      "Evaluating: 100%|████████████████████████████████████████████████████████████████████| 640/640 [05:07<00:00,  2.08it/s]\n"
     ]
    },
    {
     "name": "stdout",
     "output_type": "stream",
     "text": [
      "distilbert-base-uncased:\n",
      "Accuracy: 0.4922, Precision: 0.0125, Recall: 0.0031, F1 Score: 0.0050\n",
      "Cohen's Kappa: -0.0002\n",
      "\n"
     ]
    },
    {
     "name": "stderr",
     "output_type": "stream",
     "text": [
      "Some weights of RobertaForSequenceClassification were not initialized from the model checkpoint at roberta-base and are newly initialized: ['classifier.dense.weight', 'classifier.out_proj.weight', 'classifier.dense.bias', 'classifier.out_proj.bias']\n",
      "You should probably TRAIN this model on a down-stream task to be able to use it for predictions and inference.\n",
      "Evaluating:  31%|█████████████████████▎                                              | 200/640 [02:56<06:15,  1.17it/s]C:\\Users\\DELL\\anaconda3\\Lib\\site-packages\\sklearn\\metrics\\_classification.py:697: RuntimeWarning: invalid value encountered in scalar divide\n",
      "  k = np.sum(w_mat * confusion) / np.sum(w_mat * expected)\n",
      "Evaluating: 100%|████████████████████████████████████████████████████████████████████| 640/640 [12:40<00:00,  1.19s/it]\n"
     ]
    },
    {
     "name": "stdout",
     "output_type": "stream",
     "text": [
      "roberta-base:\n",
      "Accuracy: 0.5078, Precision: 0.5078, Recall: 1.0000, F1 Score: 0.6568\n",
      "Cohen's Kappa: nan\n",
      "\n"
     ]
    },
    {
     "name": "stderr",
     "output_type": "stream",
     "text": [
      "Some weights of XLNetForSequenceClassification were not initialized from the model checkpoint at xlnet-base-cased and are newly initialized: ['sequence_summary.summary.bias', 'sequence_summary.summary.weight', 'logits_proj.weight', 'logits_proj.bias']\n",
      "You should probably TRAIN this model on a down-stream task to be able to use it for predictions and inference.\n",
      "Evaluating:   0%|                                                                              | 0/640 [00:00<?, ?it/s]Asking to truncate to max_length but no maximum length is provided and the model has no predefined maximum length. Default to no truncation.\n",
      "Evaluating:  21%|██████████████▍                                                     | 136/640 [09:16<33:17,  3.96s/it]C:\\Users\\DELL\\anaconda3\\Lib\\site-packages\\sklearn\\metrics\\_classification.py:1469: UndefinedMetricWarning: Precision is ill-defined and being set to 0.0 due to no predicted samples. Use `zero_division` parameter to control this behavior.\n",
      "  _warn_prf(average, modifier, msg_start, len(result))\n",
      "Evaluating:  88%|███████████████████████████████████████████████████████████▌        | 560/640 [38:44<05:30,  4.14s/it]C:\\Users\\DELL\\anaconda3\\Lib\\site-packages\\sklearn\\metrics\\_classification.py:1469: UndefinedMetricWarning: Precision is ill-defined and being set to 0.0 due to no predicted samples. Use `zero_division` parameter to control this behavior.\n",
      "  _warn_prf(average, modifier, msg_start, len(result))\n",
      "Evaluating: 100%|████████████████████████████████████████████████████████████████████| 640/640 [44:04<00:00,  4.13s/it]\n"
     ]
    },
    {
     "name": "stdout",
     "output_type": "stream",
     "text": [
      "xlnet-base-cased:\n",
      "Accuracy: 0.5391, Precision: 0.5386, Recall: 0.4451, F1 Score: 0.4503\n",
      "Cohen's Kappa: 0.0577\n",
      "\n"
     ]
    },
    {
     "name": "stderr",
     "output_type": "stream",
     "text": [
      "Some weights of AlbertForSequenceClassification were not initialized from the model checkpoint at albert-base-v2 and are newly initialized: ['classifier.weight', 'classifier.bias']\n",
      "You should probably TRAIN this model on a down-stream task to be able to use it for predictions and inference.\n",
      "Evaluating: 100%|████████████████████████████████████████████████████████████████████| 640/640 [23:17<00:00,  2.18s/it]"
     ]
    },
    {
     "name": "stdout",
     "output_type": "stream",
     "text": [
      "albert-base-v2:\n",
      "Accuracy: 0.2984, Precision: 0.3543, Recall: 0.4485, F1 Score: 0.3681\n",
      "Cohen's Kappa: -0.3244\n",
      "\n",
      "{'bert-base-uncased': {'accuracy': 0.828125, 'precision': 0.8513392857142856, 'recall': 0.7818452380952378, 'f1': 0.7998528554778549, 'cohen_kappa': 0.6080987394957986}, 'distilbert-base-uncased': {'accuracy': 0.4921875, 'precision': 0.0125, 'recall': 0.003125, 'f1': 0.005, 'cohen_kappa': -0.00016447368421052544}, 'roberta-base': {'accuracy': 0.5078125, 'precision': 0.5078125, 'recall': 1.0, 'f1': 0.656782939282939, 'cohen_kappa': nan}, 'xlnet-base-cased': {'accuracy': 0.5390625, 'precision': 0.5386309523809525, 'recall': 0.4451190476190476, 'f1': 0.450252525252525, 'cohen_kappa': 0.057700721835783744}, 'albert-base-v2': {'accuracy': 0.2984375, 'precision': 0.354315476190476, 'recall': 0.44849702380952383, 'f1': 0.368086219336219, 'cohen_kappa': -0.32437776112776123}}\n"
     ]
    },
    {
     "name": "stderr",
     "output_type": "stream",
     "text": [
      "\n"
     ]
    }
   ],
   "source": [
    "from sklearn.metrics import accuracy_score, precision_score, recall_score, f1_score, cohen_kappa_score\n",
    "from tqdm import tqdm\n",
    "import torch\n",
    "from transformers import AutoModelForSequenceClassification, AutoTokenizer\n",
    "\n",
    "def evaluate_model(model, tokenizer, df, batch_size=8):\n",
    "    num_samples = len(df)\n",
    "    accuracy_list, precision_list, recall_list, f1_list, kappa_list = [], [], [], [], []\n",
    "\n",
    "    with tqdm(total=num_samples, desc=\"Evaluating\") as pbar:\n",
    "        for start in range(0, num_samples, batch_size):\n",
    "            end = min(start + batch_size, num_samples)\n",
    "\n",
    "            inputs = tokenizer(\n",
    "                df['text1'][start:end].tolist(),\n",
    "                df['text2'][start:end].tolist(),\n",
    "                return_tensors='pt',\n",
    "                padding=True,\n",
    "                truncation=True\n",
    "            )\n",
    "            labels = df['label'][start:end].values\n",
    "\n",
    "            with torch.no_grad():\n",
    "                outputs = model(**inputs)\n",
    "\n",
    "            predictions = torch.argmax(outputs.logits, dim=1).cpu().numpy()\n",
    "\n",
    "            # Update evaluation metrics for each batch\n",
    "            accuracy = accuracy_score(labels, predictions)\n",
    "            precision = precision_score(labels, predictions)\n",
    "            recall = recall_score(labels, predictions)\n",
    "            f1 = f1_score(labels, predictions)\n",
    "            kappa = cohen_kappa_score(labels, predictions)\n",
    "\n",
    "            accuracy_list.append(accuracy)\n",
    "            precision_list.append(precision)\n",
    "            recall_list.append(recall)\n",
    "            f1_list.append(f1)\n",
    "            kappa_list.append(kappa)\n",
    "\n",
    "            pbar.update(end - start)\n",
    "\n",
    "    # Compute average metrics\n",
    "    accuracy = sum(accuracy_list) / len(accuracy_list)\n",
    "    precision = sum(precision_list) / len(precision_list)\n",
    "    recall = sum(recall_list) / len(recall_list)\n",
    "    f1 = sum(f1_list) / len(f1_list)\n",
    "    mean_kappa = sum(kappa_list) / len(kappa_list)\n",
    "\n",
    "    results = {\n",
    "        'accuracy': accuracy,\n",
    "        'precision': precision,\n",
    "        'recall': recall,\n",
    "        'f1': f1,\n",
    "        'cohen_kappa': mean_kappa\n",
    "    }\n",
    "\n",
    "    return results\n",
    "\n",
    "# Define the models\n",
    "models = {\n",
    "    'bert-base-uncased': 'bert-base-uncased',\n",
    "    'distilbert-base-uncased': 'distilbert-base-uncased',\n",
    "    'roberta-base': 'roberta-base',\n",
    "    'xlnet-base-cased': 'xlnet-base-cased',\n",
    "    'albert-base-v2': 'albert-base-v2',\n",
    "}\n",
    "\n",
    "# Store results for each model\n",
    "results_dict = {}\n",
    "\n",
    "# Evaluate each model\n",
    "for model_name, model_key in models.items():\n",
    "    # Load model and tokenizer\n",
    "    model = AutoModelForSequenceClassification.from_pretrained(model_key)\n",
    "    tokenizer = AutoTokenizer.from_pretrained(model_key)\n",
    "\n",
    "    # Evaluate the model\n",
    "    results = evaluate_model(model, tokenizer, test_df)\n",
    "    \n",
    "    # Store results in the dictionary\n",
    "    results_dict[model_name] = results\n",
    "\n",
    "    # Print evaluation results\n",
    "    print(f\"{model_name}:\")\n",
    "    print(f\"Accuracy: {results['accuracy']:.4f}, Precision: {results['precision']:.4f}, Recall: {results['recall']:.4f}, F1 Score: {results['f1']:.4f}\")\n",
    "    print(f\"Cohen's Kappa: {results['cohen_kappa']:.4f}\\n\")\n",
    "\n",
    "# Access results_dict to get the evaluation results for each model\n",
    "print(results_dict)\n"
   ]
  },
  {
   "cell_type": "markdown",
   "id": "73a88a80",
   "metadata": {},
   "source": [
    "## Making CSV File for the calculated parameters"
   ]
  },
  {
   "cell_type": "code",
   "execution_count": 11,
   "id": "d49fc5d3",
   "metadata": {},
   "outputs": [
    {
     "name": "stdout",
     "output_type": "stream",
     "text": [
      "                         accuracy  precision    recall        f1  cohen_kappa\n",
      "bert-base-uncased        0.828125   0.851339  0.781845  0.799853     0.608099\n",
      "distilbert-base-uncased  0.492188   0.012500  0.003125  0.005000    -0.000164\n",
      "roberta-base             0.507812   0.507812  1.000000  0.656783          NaN\n",
      "xlnet-base-cased         0.539062   0.538631  0.445119  0.450253     0.057701\n",
      "albert-base-v2           0.298438   0.354315  0.448497  0.368086    -0.324378\n"
     ]
    }
   ],
   "source": [
    "# Convert results_dict to a DataFrame\n",
    "results_df = pd.DataFrame(results_dict).T\n",
    "\n",
    "# Save DataFrame to a CSV file\n",
    "results_df.to_csv('Final_results.csv')\n",
    "\n",
    "# Access results_df to get the evaluation results for each model\n",
    "print(results_df)"
   ]
  },
  {
   "cell_type": "markdown",
   "id": "b88c6da4",
   "metadata": {},
   "source": [
    "## using my Topsis pacakage for calculating topsis score"
   ]
  },
  {
   "cell_type": "code",
   "execution_count": 12,
   "id": "9283d774",
   "metadata": {},
   "outputs": [
    {
     "name": "stdout",
     "output_type": "stream",
     "text": [
      "Collecting Topsis-Rohan-102103108\n",
      "  Obtaining dependency information for Topsis-Rohan-102103108 from https://files.pythonhosted.org/packages/b8/20/6a1464a97765ee7a83b2b75caea30a2fab07cf862bc500421b10a337485c/Topsis_Rohan_102103108-1.1.2-py3-none-any.whl.metadata\n",
      "  Downloading Topsis_Rohan_102103108-1.1.2-py3-none-any.whl.metadata (1.4 kB)\n",
      "Downloading Topsis_Rohan_102103108-1.1.2-py3-none-any.whl (3.3 kB)\n",
      "Installing collected packages: Topsis-Rohan-102103108\n",
      "Successfully installed Topsis-Rohan-102103108-1.1.2\n"
     ]
    }
   ],
   "source": [
    "!pip install Topsis-Rohan-102103108\n"
   ]
  },
  {
   "cell_type": "code",
   "execution_count": 19,
   "id": "988996bc",
   "metadata": {},
   "outputs": [
    {
     "name": "stdout",
     "output_type": "stream",
     "text": [
      "Topsis\n",
      "TOPSIS analysis completed. Output saved to output.csv\n"
     ]
    }
   ],
   "source": [
    "!topsis Final_results.csv \"1,1,1,1,1\" \"+,+,+,+,+\" output.csv\n"
   ]
  },
  {
   "cell_type": "code",
   "execution_count": 20,
   "id": "81ca0283",
   "metadata": {},
   "outputs": [],
   "source": [
    "ans=pd.read_csv('output.csv')"
   ]
  },
  {
   "cell_type": "code",
   "execution_count": 21,
   "id": "863a3643",
   "metadata": {},
   "outputs": [
    {
     "data": {
      "text/html": [
       "<div>\n",
       "<style scoped>\n",
       "    .dataframe tbody tr th:only-of-type {\n",
       "        vertical-align: middle;\n",
       "    }\n",
       "\n",
       "    .dataframe tbody tr th {\n",
       "        vertical-align: top;\n",
       "    }\n",
       "\n",
       "    .dataframe thead th {\n",
       "        text-align: right;\n",
       "    }\n",
       "</style>\n",
       "<table border=\"1\" class=\"dataframe\">\n",
       "  <thead>\n",
       "    <tr style=\"text-align: right;\">\n",
       "      <th></th>\n",
       "      <th>Unnamed: 0</th>\n",
       "      <th>accuracy</th>\n",
       "      <th>precision</th>\n",
       "      <th>recall</th>\n",
       "      <th>f1</th>\n",
       "      <th>cohen_kappa</th>\n",
       "      <th>Topsis Score</th>\n",
       "      <th>Rank</th>\n",
       "    </tr>\n",
       "  </thead>\n",
       "  <tbody>\n",
       "    <tr>\n",
       "      <th>0</th>\n",
       "      <td>bert-base-uncased</td>\n",
       "      <td>0.828125</td>\n",
       "      <td>0.851339</td>\n",
       "      <td>0.781845</td>\n",
       "      <td>0.799853</td>\n",
       "      <td>0.608099</td>\n",
       "      <td>0.078631</td>\n",
       "      <td>5.0</td>\n",
       "    </tr>\n",
       "    <tr>\n",
       "      <th>1</th>\n",
       "      <td>distilbert-base-uncased</td>\n",
       "      <td>0.492188</td>\n",
       "      <td>0.012500</td>\n",
       "      <td>0.003125</td>\n",
       "      <td>0.005000</td>\n",
       "      <td>-0.000164</td>\n",
       "      <td>0.754064</td>\n",
       "      <td>1.0</td>\n",
       "    </tr>\n",
       "    <tr>\n",
       "      <th>2</th>\n",
       "      <td>roberta-base</td>\n",
       "      <td>0.507812</td>\n",
       "      <td>0.507812</td>\n",
       "      <td>1.000000</td>\n",
       "      <td>0.656783</td>\n",
       "      <td>NaN</td>\n",
       "      <td>0.288608</td>\n",
       "      <td>4.0</td>\n",
       "    </tr>\n",
       "    <tr>\n",
       "      <th>3</th>\n",
       "      <td>xlnet-base-cased</td>\n",
       "      <td>0.539062</td>\n",
       "      <td>0.538631</td>\n",
       "      <td>0.445119</td>\n",
       "      <td>0.450253</td>\n",
       "      <td>0.057701</td>\n",
       "      <td>0.530906</td>\n",
       "      <td>3.0</td>\n",
       "    </tr>\n",
       "    <tr>\n",
       "      <th>4</th>\n",
       "      <td>albert-base-v2</td>\n",
       "      <td>0.298438</td>\n",
       "      <td>0.354315</td>\n",
       "      <td>0.448497</td>\n",
       "      <td>0.368086</td>\n",
       "      <td>-0.324378</td>\n",
       "      <td>0.749069</td>\n",
       "      <td>2.0</td>\n",
       "    </tr>\n",
       "  </tbody>\n",
       "</table>\n",
       "</div>"
      ],
      "text/plain": [
       "                Unnamed: 0  accuracy  precision    recall        f1  \\\n",
       "0        bert-base-uncased  0.828125   0.851339  0.781845  0.799853   \n",
       "1  distilbert-base-uncased  0.492188   0.012500  0.003125  0.005000   \n",
       "2             roberta-base  0.507812   0.507812  1.000000  0.656783   \n",
       "3         xlnet-base-cased  0.539062   0.538631  0.445119  0.450253   \n",
       "4           albert-base-v2  0.298438   0.354315  0.448497  0.368086   \n",
       "\n",
       "   cohen_kappa  Topsis Score  Rank  \n",
       "0     0.608099      0.078631   5.0  \n",
       "1    -0.000164      0.754064   1.0  \n",
       "2          NaN      0.288608   4.0  \n",
       "3     0.057701      0.530906   3.0  \n",
       "4    -0.324378      0.749069   2.0  "
      ]
     },
     "execution_count": 21,
     "metadata": {},
     "output_type": "execute_result"
    }
   ],
   "source": [
    "ans"
   ]
  },
  {
   "cell_type": "code",
   "execution_count": 27,
   "id": "95965248",
   "metadata": {},
   "outputs": [
    {
     "data": {
      "image/png": "[encoded data removed]",
      "text/plain": [
       "<Figure size 600x600 with 1 Axes>"
      ]
     },
     "metadata": {},
     "output_type": "display_data"
    }
   ],
   "source": [
    "import pandas as pd\n",
    "import matplotlib.pyplot as plt\n",
    "\n",
    "# Assuming your DataFrame is named 'FinalAnswer'\n",
    "model_names = ans['Unnamed: 0']\n",
    "topsis_scores = ans['Topsis Score']\n",
    "\n",
    "# Plotting the bar graph\n",
    "plt.figure(figsize=(6, 6))\n",
    "plt.bar(model_names, topsis_scores, color='Red')\n",
    "plt.xlabel('Model Name')\n",
    "plt.ylabel('Topsis Score')\n",
    "plt.title('Topsis Score for Different Models (Done by Rohan)')\n",
    "plt.xticks(rotation=45, ha='right')  # Rotate x-axis labels for better readability\n",
    "\n",
    "# Show the plot\n",
    "plt.tight_layout()\n",
    "plt.show()\n"
   ]
  },
  {
   "cell_type": "code",
   "execution_count": 26,
   "id": "2a3a5521",
   "metadata": {},
   "outputs": [],
   "source": [
    "## so distilbert-base-uncased and bert-base-uncased works better for text sentence similarity"
   ]
  }
 ],
 "metadata": {
  "kernelspec": {
   "display_name": "Python 3 (ipykernel)",
   "language": "python",
   "name": "python3"
  },
  "language_info": {
   "codemirror_mode": {
    "name": "ipython",
    "version": 3
   },
   "file_extension": ".py",
   "mimetype": "text/x-python",
   "name": "python",
   "nbconvert_exporter": "python",
   "pygments_lexer": "ipython3",
   "version": "3.11.5"
  }
 },
 "nbformat": 4,
 "nbformat_minor": 5
}
